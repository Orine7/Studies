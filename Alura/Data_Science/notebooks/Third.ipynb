{
 "metadata": {
  "language_info": {
   "codemirror_mode": {
    "name": "ipython",
    "version": 3
   },
   "file_extension": ".py",
   "mimetype": "text/x-python",
   "name": "python",
   "nbconvert_exporter": "python",
   "pygments_lexer": "ipython3",
   "version": "3.8.5-final"
  },
  "orig_nbformat": 2,
  "kernelspec": {
   "name": "python38264bit17f170ce087343a18784364485b2f7f5",
   "display_name": "Python 3.8.2 64-bit"
  }
 },
 "nbformat": 4,
 "nbformat_minor": 2,
 "cells": [
  {
   "source": [
    "# Learning Pandas"
   ],
   "cell_type": "markdown",
   "metadata": {}
  },
  {
   "cell_type": "code",
   "execution_count": 1,
   "metadata": {},
   "outputs": [],
   "source": [
    "import pandas as pd"
   ]
  },
  {
   "cell_type": "code",
   "execution_count": 2,
   "metadata": {},
   "outputs": [
    {
     "output_type": "execute_result",
     "data": {
      "text/plain": [
       "                      Tipo           Bairro  Quartos  Vagas  Suites  Area  \\\n",
       "0                Quitinete       Copacabana        1      0       0    40   \n",
       "1                     Casa  Jardim Botânico        2      0       1   100   \n",
       "2  Conjunto Comercial/Sala  Barra da Tijuca        0      4       0   150   \n",
       "3              Apartamento           Centro        1      0       0    15   \n",
       "4              Apartamento     Higienópolis        1      0       0    48   \n",
       "\n",
       "    Valor  Condominio    IPTU  \n",
       "0  1700.0       500.0    60.0  \n",
       "1  7000.0         NaN     NaN  \n",
       "2  5200.0      4020.0  1111.0  \n",
       "3   800.0       390.0    20.0  \n",
       "4   800.0       230.0     NaN  "
      ],
      "text/html": "<div>\n<style scoped>\n    .dataframe tbody tr th:only-of-type {\n        vertical-align: middle;\n    }\n\n    .dataframe tbody tr th {\n        vertical-align: top;\n    }\n\n    .dataframe thead th {\n        text-align: right;\n    }\n</style>\n<table border=\"1\" class=\"dataframe\">\n  <thead>\n    <tr style=\"text-align: right;\">\n      <th></th>\n      <th>Tipo</th>\n      <th>Bairro</th>\n      <th>Quartos</th>\n      <th>Vagas</th>\n      <th>Suites</th>\n      <th>Area</th>\n      <th>Valor</th>\n      <th>Condominio</th>\n      <th>IPTU</th>\n    </tr>\n  </thead>\n  <tbody>\n    <tr>\n      <th>0</th>\n      <td>Quitinete</td>\n      <td>Copacabana</td>\n      <td>1</td>\n      <td>0</td>\n      <td>0</td>\n      <td>40</td>\n      <td>1700.0</td>\n      <td>500.0</td>\n      <td>60.0</td>\n    </tr>\n    <tr>\n      <th>1</th>\n      <td>Casa</td>\n      <td>Jardim Botânico</td>\n      <td>2</td>\n      <td>0</td>\n      <td>1</td>\n      <td>100</td>\n      <td>7000.0</td>\n      <td>NaN</td>\n      <td>NaN</td>\n    </tr>\n    <tr>\n      <th>2</th>\n      <td>Conjunto Comercial/Sala</td>\n      <td>Barra da Tijuca</td>\n      <td>0</td>\n      <td>4</td>\n      <td>0</td>\n      <td>150</td>\n      <td>5200.0</td>\n      <td>4020.0</td>\n      <td>1111.0</td>\n    </tr>\n    <tr>\n      <th>3</th>\n      <td>Apartamento</td>\n      <td>Centro</td>\n      <td>1</td>\n      <td>0</td>\n      <td>0</td>\n      <td>15</td>\n      <td>800.0</td>\n      <td>390.0</td>\n      <td>20.0</td>\n    </tr>\n    <tr>\n      <th>4</th>\n      <td>Apartamento</td>\n      <td>Higienópolis</td>\n      <td>1</td>\n      <td>0</td>\n      <td>0</td>\n      <td>48</td>\n      <td>800.0</td>\n      <td>230.0</td>\n      <td>NaN</td>\n    </tr>\n  </tbody>\n</table>\n</div>"
     },
     "metadata": {},
     "execution_count": 2
    }
   ],
   "source": [
    "rent = pd.read_csv(\"../Data/aluguel.csv\", sep=';')\n",
    "#read_{X}, where X can be csv, html, table, xlsx, json\n",
    "rent.head()"
   ]
  },
  {
   "cell_type": "code",
   "execution_count": 3,
   "metadata": {},
   "outputs": [
    {
     "output_type": "stream",
     "name": "stdout",
     "text": [
      "Tipo           object\nBairro         object\nQuartos         int64\nVagas           int64\nSuites          int64\nArea            int64\nValor         float64\nCondominio    float64\nIPTU          float64\ndtype: object\n<class 'pandas.core.frame.DataFrame'>\nRangeIndex: 32960 entries, 0 to 32959\nData columns (total 9 columns):\n #   Column      Non-Null Count  Dtype  \n---  ------      --------------  -----  \n 0   Tipo        32960 non-null  object \n 1   Bairro      32960 non-null  object \n 2   Quartos     32960 non-null  int64  \n 3   Vagas       32960 non-null  int64  \n 4   Suites      32960 non-null  int64  \n 5   Area        32960 non-null  int64  \n 6   Valor       32943 non-null  float64\n 7   Condominio  28867 non-null  float64\n 8   IPTU        22723 non-null  float64\ndtypes: float64(3), int64(4), object(2)\nmemory usage: 2.3+ MB\nNone\n"
     ]
    }
   ],
   "source": [
    "print(rent.dtypes)\n",
    "print(rent.info())"
   ]
  },
  {
   "source": [
    "real_estate_type = rent['Tipo'].unique()\n",
    "real_estate_type"
   ],
   "cell_type": "code",
   "metadata": {},
   "execution_count": 4,
   "outputs": [
    {
     "output_type": "execute_result",
     "data": {
      "text/plain": [
       "array(['Quitinete', 'Casa', 'Conjunto Comercial/Sala', 'Apartamento',\n",
       "       'Casa de Condomínio', 'Prédio Inteiro', 'Flat', 'Loja/Salão',\n",
       "       'Galpão/Depósito/Armazém', 'Casa Comercial', 'Casa de Vila',\n",
       "       'Terreno Padrão', 'Box/Garagem', 'Loft',\n",
       "       'Loja Shopping/ Ct Comercial', 'Chácara', 'Loteamento/Condomínio',\n",
       "       'Sítio', 'Pousada/Chalé', 'Studio', 'Hotel', 'Indústria'],\n",
       "      dtype=object)"
      ]
     },
     "metadata": {},
     "execution_count": 4
    }
   ]
  },
  {
   "cell_type": "code",
   "execution_count": 5,
   "metadata": {},
   "outputs": [
    {
     "output_type": "stream",
     "name": "stdout",
     "text": [
      "       index         Tipo                Bairro  Quartos  Vagas  Suites  Area  \\\n0          0    Quitinete            Copacabana        1      0       0    40   \n1          1         Casa       Jardim Botânico        2      0       1   100   \n2          3  Apartamento                Centro        1      0       0    15   \n3          4  Apartamento          Higienópolis        1      0       0    48   \n4          5  Apartamento          Vista Alegre        3      1       0    70   \n...      ...          ...                   ...      ...    ...     ...   ...   \n23102  32953  Apartamento                 Méier        2      0       0    70   \n23103  32955    Quitinete                Centro        0      0       0    27   \n23104  32956  Apartamento           Jacarepaguá        3      1       2    78   \n23105  32957  Apartamento  São Francisco Xavier        2      1       0    48   \n23106  32958  Apartamento                Leblon        2      0       0    70   \n\n        Valor  Condominio  IPTU  \n0      1700.0       500.0  60.0  \n1      7000.0         NaN   NaN  \n2       800.0       390.0  20.0  \n3       800.0       230.0   NaN  \n4      1200.0         NaN   NaN  \n...       ...         ...   ...  \n23102   900.0       490.0  48.0  \n23103   800.0       350.0  25.0  \n23104  1800.0       800.0  40.0  \n23105  1400.0       509.0  37.0  \n23106  3000.0       760.0   NaN  \n\n[23107 rows x 10 columns]\n"
     ]
    }
   ],
   "source": [
    "residential_estates = ['Quitinete', 'Casa', 'Apartamento',\n",
    "       'Casa de Condomínio', 'Flat', 'Casa de Vila', 'Loft']\n",
    "selection = rent['Tipo'].isin(residential_estates)\n",
    "residential_data = rent[selection].reset_index()\n",
    "print(residential_data)"
   ]
  },
  {
   "cell_type": "code",
   "execution_count": 6,
   "metadata": {},
   "outputs": [],
   "source": [
    "residential_data.to_csv('../Data/residential_data.csv',sep = ';')"
   ]
  },
  {
   "cell_type": "code",
   "execution_count": 7,
   "metadata": {},
   "outputs": [
    {
     "output_type": "execute_result",
     "data": {
      "text/plain": [
       "       index                Tipo           Bairro  Quartos  Vagas  Suites  \\\n",
       "3790    5491           Quitinete       Copacabana        0      0       0   \n",
       "5800    8418         Apartamento       Copacabana        0      0       0   \n",
       "9123   13166         Apartamento  Barra da Tijuca        0      0       0   \n",
       "15183  21745         Apartamento           Leblon        0      0       0   \n",
       "2358    3381           Quitinete           Centro        0      0       0   \n",
       "...      ...                 ...              ...      ...    ...     ...   \n",
       "22050  31488  Casa de Condomínio  Barra da Tijuca       11      4       4   \n",
       "352      507                Casa         Botafogo       12      5       0   \n",
       "311      442         Apartamento  Barra da Tijuca       14      2       2   \n",
       "3966    5749                Casa     Santa Teresa       14      0      14   \n",
       "3000    4347         Apartamento             Urca       32      0       1   \n",
       "\n",
       "       Area    Valor  Condominio     IPTU  \n",
       "3790     36    100.0         NaN      NaN  \n",
       "5800     15    100.0         NaN      NaN  \n",
       "9123     15    100.0         NaN      NaN  \n",
       "15183    15    100.0         1.0      NaN  \n",
       "2358     32    400.0      1000.0    146.0  \n",
       "...     ...      ...         ...      ...  \n",
       "22050   937  15000.0      2300.0  14014.0  \n",
       "352     500  18000.0         NaN   1800.0  \n",
       "311     212   5000.0      1200.0    650.0  \n",
       "3966    350   9500.0         NaN    600.0  \n",
       "3000     70   4000.0         NaN      NaN  \n",
       "\n",
       "[23107 rows x 10 columns]"
      ],
      "text/html": "<div>\n<style scoped>\n    .dataframe tbody tr th:only-of-type {\n        vertical-align: middle;\n    }\n\n    .dataframe tbody tr th {\n        vertical-align: top;\n    }\n\n    .dataframe thead th {\n        text-align: right;\n    }\n</style>\n<table border=\"1\" class=\"dataframe\">\n  <thead>\n    <tr style=\"text-align: right;\">\n      <th></th>\n      <th>index</th>\n      <th>Tipo</th>\n      <th>Bairro</th>\n      <th>Quartos</th>\n      <th>Vagas</th>\n      <th>Suites</th>\n      <th>Area</th>\n      <th>Valor</th>\n      <th>Condominio</th>\n      <th>IPTU</th>\n    </tr>\n  </thead>\n  <tbody>\n    <tr>\n      <th>3790</th>\n      <td>5491</td>\n      <td>Quitinete</td>\n      <td>Copacabana</td>\n      <td>0</td>\n      <td>0</td>\n      <td>0</td>\n      <td>36</td>\n      <td>100.0</td>\n      <td>NaN</td>\n      <td>NaN</td>\n    </tr>\n    <tr>\n      <th>5800</th>\n      <td>8418</td>\n      <td>Apartamento</td>\n      <td>Copacabana</td>\n      <td>0</td>\n      <td>0</td>\n      <td>0</td>\n      <td>15</td>\n      <td>100.0</td>\n      <td>NaN</td>\n      <td>NaN</td>\n    </tr>\n    <tr>\n      <th>9123</th>\n      <td>13166</td>\n      <td>Apartamento</td>\n      <td>Barra da Tijuca</td>\n      <td>0</td>\n      <td>0</td>\n      <td>0</td>\n      <td>15</td>\n      <td>100.0</td>\n      <td>NaN</td>\n      <td>NaN</td>\n    </tr>\n    <tr>\n      <th>15183</th>\n      <td>21745</td>\n      <td>Apartamento</td>\n      <td>Leblon</td>\n      <td>0</td>\n      <td>0</td>\n      <td>0</td>\n      <td>15</td>\n      <td>100.0</td>\n      <td>1.0</td>\n      <td>NaN</td>\n    </tr>\n    <tr>\n      <th>2358</th>\n      <td>3381</td>\n      <td>Quitinete</td>\n      <td>Centro</td>\n      <td>0</td>\n      <td>0</td>\n      <td>0</td>\n      <td>32</td>\n      <td>400.0</td>\n      <td>1000.0</td>\n      <td>146.0</td>\n    </tr>\n    <tr>\n      <th>...</th>\n      <td>...</td>\n      <td>...</td>\n      <td>...</td>\n      <td>...</td>\n      <td>...</td>\n      <td>...</td>\n      <td>...</td>\n      <td>...</td>\n      <td>...</td>\n      <td>...</td>\n    </tr>\n    <tr>\n      <th>22050</th>\n      <td>31488</td>\n      <td>Casa de Condomínio</td>\n      <td>Barra da Tijuca</td>\n      <td>11</td>\n      <td>4</td>\n      <td>4</td>\n      <td>937</td>\n      <td>15000.0</td>\n      <td>2300.0</td>\n      <td>14014.0</td>\n    </tr>\n    <tr>\n      <th>352</th>\n      <td>507</td>\n      <td>Casa</td>\n      <td>Botafogo</td>\n      <td>12</td>\n      <td>5</td>\n      <td>0</td>\n      <td>500</td>\n      <td>18000.0</td>\n      <td>NaN</td>\n      <td>1800.0</td>\n    </tr>\n    <tr>\n      <th>311</th>\n      <td>442</td>\n      <td>Apartamento</td>\n      <td>Barra da Tijuca</td>\n      <td>14</td>\n      <td>2</td>\n      <td>2</td>\n      <td>212</td>\n      <td>5000.0</td>\n      <td>1200.0</td>\n      <td>650.0</td>\n    </tr>\n    <tr>\n      <th>3966</th>\n      <td>5749</td>\n      <td>Casa</td>\n      <td>Santa Teresa</td>\n      <td>14</td>\n      <td>0</td>\n      <td>14</td>\n      <td>350</td>\n      <td>9500.0</td>\n      <td>NaN</td>\n      <td>600.0</td>\n    </tr>\n    <tr>\n      <th>3000</th>\n      <td>4347</td>\n      <td>Apartamento</td>\n      <td>Urca</td>\n      <td>32</td>\n      <td>0</td>\n      <td>1</td>\n      <td>70</td>\n      <td>4000.0</td>\n      <td>NaN</td>\n      <td>NaN</td>\n    </tr>\n  </tbody>\n</table>\n<p>23107 rows × 10 columns</p>\n</div>"
     },
     "metadata": {},
     "execution_count": 7
    }
   ],
   "source": [
    "residential_data.sort_values(['Quartos', 'Valor'])"
   ]
  },
  {
   "cell_type": "code",
   "execution_count": 8,
   "metadata": {},
   "outputs": [
    {
     "output_type": "execute_result",
     "data": {
      "text/plain": [
       "                          Tipo                Bairro  Quartos  Vagas  Suites  \\\n",
       "0                    Quitinete            Copacabana        1      0       0   \n",
       "2      Conjunto Comercial/Sala       Barra da Tijuca        0      4       0   \n",
       "3                  Apartamento                Centro        1      0       0   \n",
       "6                  Apartamento              Cachambi        2      0       0   \n",
       "9      Conjunto Comercial/Sala                Centro        0      3       0   \n",
       "...                        ...                   ...      ...    ...     ...   \n",
       "32953              Apartamento                 Méier        2      0       0   \n",
       "32955                Quitinete                Centro        0      0       0   \n",
       "32956              Apartamento           Jacarepaguá        3      1       2   \n",
       "32957              Apartamento  São Francisco Xavier        2      1       0   \n",
       "32959  Conjunto Comercial/Sala                Centro        0      0       0   \n",
       "\n",
       "       Area    Valor  Condominio    IPTU  \n",
       "0        40   1700.0       500.0    60.0  \n",
       "2       150   5200.0      4020.0  1111.0  \n",
       "3        15    800.0       390.0    20.0  \n",
       "6        50   1300.0       301.0    17.0  \n",
       "9       695  35000.0     19193.0  3030.0  \n",
       "...     ...      ...         ...     ...  \n",
       "32953    70    900.0       490.0    48.0  \n",
       "32955    27    800.0       350.0    25.0  \n",
       "32956    78   1800.0       800.0    40.0  \n",
       "32957    48   1400.0       509.0    37.0  \n",
       "32959   250   6500.0      4206.0  1109.0  \n",
       "\n",
       "[22716 rows x 9 columns]"
      ],
      "text/html": "<div>\n<style scoped>\n    .dataframe tbody tr th:only-of-type {\n        vertical-align: middle;\n    }\n\n    .dataframe tbody tr th {\n        vertical-align: top;\n    }\n\n    .dataframe thead th {\n        text-align: right;\n    }\n</style>\n<table border=\"1\" class=\"dataframe\">\n  <thead>\n    <tr style=\"text-align: right;\">\n      <th></th>\n      <th>Tipo</th>\n      <th>Bairro</th>\n      <th>Quartos</th>\n      <th>Vagas</th>\n      <th>Suites</th>\n      <th>Area</th>\n      <th>Valor</th>\n      <th>Condominio</th>\n      <th>IPTU</th>\n    </tr>\n  </thead>\n  <tbody>\n    <tr>\n      <th>0</th>\n      <td>Quitinete</td>\n      <td>Copacabana</td>\n      <td>1</td>\n      <td>0</td>\n      <td>0</td>\n      <td>40</td>\n      <td>1700.0</td>\n      <td>500.0</td>\n      <td>60.0</td>\n    </tr>\n    <tr>\n      <th>2</th>\n      <td>Conjunto Comercial/Sala</td>\n      <td>Barra da Tijuca</td>\n      <td>0</td>\n      <td>4</td>\n      <td>0</td>\n      <td>150</td>\n      <td>5200.0</td>\n      <td>4020.0</td>\n      <td>1111.0</td>\n    </tr>\n    <tr>\n      <th>3</th>\n      <td>Apartamento</td>\n      <td>Centro</td>\n      <td>1</td>\n      <td>0</td>\n      <td>0</td>\n      <td>15</td>\n      <td>800.0</td>\n      <td>390.0</td>\n      <td>20.0</td>\n    </tr>\n    <tr>\n      <th>6</th>\n      <td>Apartamento</td>\n      <td>Cachambi</td>\n      <td>2</td>\n      <td>0</td>\n      <td>0</td>\n      <td>50</td>\n      <td>1300.0</td>\n      <td>301.0</td>\n      <td>17.0</td>\n    </tr>\n    <tr>\n      <th>9</th>\n      <td>Conjunto Comercial/Sala</td>\n      <td>Centro</td>\n      <td>0</td>\n      <td>3</td>\n      <td>0</td>\n      <td>695</td>\n      <td>35000.0</td>\n      <td>19193.0</td>\n      <td>3030.0</td>\n    </tr>\n    <tr>\n      <th>...</th>\n      <td>...</td>\n      <td>...</td>\n      <td>...</td>\n      <td>...</td>\n      <td>...</td>\n      <td>...</td>\n      <td>...</td>\n      <td>...</td>\n      <td>...</td>\n    </tr>\n    <tr>\n      <th>32953</th>\n      <td>Apartamento</td>\n      <td>Méier</td>\n      <td>2</td>\n      <td>0</td>\n      <td>0</td>\n      <td>70</td>\n      <td>900.0</td>\n      <td>490.0</td>\n      <td>48.0</td>\n    </tr>\n    <tr>\n      <th>32955</th>\n      <td>Quitinete</td>\n      <td>Centro</td>\n      <td>0</td>\n      <td>0</td>\n      <td>0</td>\n      <td>27</td>\n      <td>800.0</td>\n      <td>350.0</td>\n      <td>25.0</td>\n    </tr>\n    <tr>\n      <th>32956</th>\n      <td>Apartamento</td>\n      <td>Jacarepaguá</td>\n      <td>3</td>\n      <td>1</td>\n      <td>2</td>\n      <td>78</td>\n      <td>1800.0</td>\n      <td>800.0</td>\n      <td>40.0</td>\n    </tr>\n    <tr>\n      <th>32957</th>\n      <td>Apartamento</td>\n      <td>São Francisco Xavier</td>\n      <td>2</td>\n      <td>1</td>\n      <td>0</td>\n      <td>48</td>\n      <td>1400.0</td>\n      <td>509.0</td>\n      <td>37.0</td>\n    </tr>\n    <tr>\n      <th>32959</th>\n      <td>Conjunto Comercial/Sala</td>\n      <td>Centro</td>\n      <td>0</td>\n      <td>0</td>\n      <td>0</td>\n      <td>250</td>\n      <td>6500.0</td>\n      <td>4206.0</td>\n      <td>1109.0</td>\n    </tr>\n  </tbody>\n</table>\n<p>22716 rows × 9 columns</p>\n</div>"
     },
     "metadata": {},
     "execution_count": 8
    }
   ],
   "source": [
    "# Removing NAN occurences\n",
    "rent.dropna(subset=['IPTU', 'Valor'], inplace= True)\n",
    "rent"
   ]
  },
  {
   "cell_type": "code",
   "execution_count": 12,
   "metadata": {},
   "outputs": [],
   "source": [
    "# Ajusting NAN occurences\n",
    "selection = (rent['Tipo'] == 'Apartamento') & (rent['Condominio'].isnull())\n",
    "rent = rent[~selection]\n",
    "rent.fillna({'Condominio': 0}, inplace=True)"
   ]
  },
  {
   "cell_type": "code",
   "execution_count": 16,
   "metadata": {},
   "outputs": [],
   "source": [
    "# adding info to the dataframe\n",
    "rent['Valor total'] = rent['Valor'] + rent['Condominio'] + rent['IPTU']\n",
    "rent['M²'] = (rent['Valor'] / rent['Area']).round(2)"
   ]
  },
  {
   "cell_type": "code",
   "execution_count": 17,
   "metadata": {},
   "outputs": [],
   "source": [
    "# removing info from dataframes\n",
    "rent.drop(['Valor total'], axis=1,inplace=True)"
   ]
  },
  {
   "cell_type": "code",
   "execution_count": 21,
   "metadata": {},
   "outputs": [
    {
     "output_type": "execute_result",
     "data": {
      "text/plain": [
       "(0, 2]      7969\n",
       "(2, 4]      7549\n",
       "(4, 6]       539\n",
       "(6, 999]      57\n",
       "Name: Quartos, dtype: int64"
      ]
     },
     "metadata": {},
     "execution_count": 21
    }
   ],
   "source": [
    "#creating classesl, with pd.cut you can separate data into another dataframe, and then count the occurrences\n",
    "class_ = [0,2,4,6,999]\n",
    "Bedrooms = pd.cut(rent.Quartos, class_)\n",
    "pd.value_counts(Bedrooms)"
   ]
  },
  {
   "cell_type": "code",
   "execution_count": null,
   "metadata": {},
   "outputs": [],
   "source": []
  }
 ]
}